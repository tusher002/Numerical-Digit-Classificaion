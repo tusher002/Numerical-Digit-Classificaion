{
 "cells": [
  {
   "cell_type": "code",
   "execution_count": 2,
   "metadata": {},
   "outputs": [],
   "source": [
    "import numpy as np\n",
    "import pandas as pd \n",
    "from pandas import Series, DataFrame\n",
    "import cv2\n",
    "import os\n",
    "import seaborn as sns\n",
    "import matplotlib.pyplot as plt"
   ]
  },
  {
   "cell_type": "code",
   "execution_count": 43,
   "metadata": {},
   "outputs": [],
   "source": [
    "pwd = 'C:\\\\Users\\\\Tusher\\\\ML project\\\\gestures'\n",
    "for filename in os.listdir(pwd):\n",
    "    file_path1 = os.path.join(pwd, filename)\n",
    "    for file_path in os.listdir(file_path1):\n",
    "        file_path = os.path.join(file_path1, file_path)\n",
    "        img = cv2.imread(file_path)\n",
    "        kernel = np.ones((5,5),np.float32)/25\n",
    "        img = cv2.filter2D(img,-1,kernel)\n",
    "        normalizedImg = np.zeros((800, 800))\n",
    "        normalizedImg = cv2.normalize(img,  normalizedImg, 0, 255, cv2.NORM_MINMAX)\n",
    "\n",
    "        ########## histogram equalization \n",
    "        hist_img = normalizedImg\n",
    "\n",
    "        try:\n",
    "            kernel = np.array([[0,-1,0], [-1,5,-1], [0,-1,0]])\n",
    "            cv2.filter2D(hist_img, -1, kernel)\n",
    "            hist,bins = np.histogram(hist_img.flatten(),256,[0,256])\n",
    "            \n",
    "            cdf = hist.cumsum()\n",
    "            cdf_normalized = cdf * hist.max()/ cdf.max()\n",
    "        except:\n",
    "            None\n",
    "        \n",
    "        edges = cv2.Canny(hist_img,100,200)\n",
    "                \n",
    "        th3 = cv2.adaptiveThreshold(edges,255,cv2.ADAPTIVE_THRESH_GAUSSIAN_C, cv2.THRESH_BINARY,9,2)\n",
    "        \n",
    "        cv2.imwrite(file_path, th3)\n"
   ]
  },
  {
   "cell_type": "code",
   "execution_count": null,
   "metadata": {
    "collapsed": true
   },
   "outputs": [],
   "source": []
  }
 ],
 "metadata": {
  "kernelspec": {
   "display_name": "Python 3",
   "language": "python",
   "name": "python3"
  },
  "language_info": {
   "codemirror_mode": {
    "name": "ipython",
    "version": 3
   },
   "file_extension": ".py",
   "mimetype": "text/x-python",
   "name": "python",
   "nbconvert_exporter": "python",
   "pygments_lexer": "ipython3",
   "version": "3.6.1"
  }
 },
 "nbformat": 4,
 "nbformat_minor": 2
}
